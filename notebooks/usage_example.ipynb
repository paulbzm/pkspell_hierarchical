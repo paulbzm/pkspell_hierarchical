{
 "cells": [
  {
   "cell_type": "code",
   "execution_count": 2,
   "metadata": {},
   "outputs": [
    {
     "name": "stdout",
     "output_type": "stream",
     "text": [
      "Using cpu\n"
     ]
    }
   ],
   "source": [
    "import torch\n",
    "import sys\n",
    "import os\n",
    "from pathlib import Path\n",
    "sys.path.append(os.path.dirname(os.getcwd()))\n",
    "from src.models.inference import single_piece_predict\n",
    "from src.models.models import PKSpell\n",
    "from src.models.process_score import process_score\n",
    "\n",
    "device = torch.device(\"cuda\") if torch.cuda.is_available() else torch.device(\"cpu\")\n",
    "print(\"Using\", device)"
   ]
  },
  {
   "cell_type": "markdown",
   "metadata": {},
   "source": [
    "## Process list of notes and durations\n",
    "Example: you are extracting the notes from a MIDI file"
   ]
  },
  {
   "cell_type": "code",
   "execution_count": 4,
   "metadata": {},
   "outputs": [],
   "source": [
    "model = torch.load(Path(\"../models/pkspell.pt\"))\n",
    "\n",
    "## if the load cause problems, loading the state_dict should work\n",
    "# model = PKSpell()\n",
    "# model.load_state_dict(torch.load(Path(\"../models/pkspell_statedict.pt\")))"
   ]
  },
  {
   "cell_type": "code",
   "execution_count": 5,
   "metadata": {},
   "outputs": [
    {
     "data": {
      "text/plain": [
       "(['E-', 'F', 'G', 'A-', 'C', 'E-', 'D-', 'F', 'E-', 'A-'],\n",
       " [-4, -4, -4, -4, -4, -4, -4, -4, -4, -4])"
      ]
     },
     "execution_count": 5,
     "metadata": {},
     "output_type": "execute_result"
    }
   ],
   "source": [
    "# midi-numbers % 12\n",
    "p_list = [3,5,7,8,0,3,1,5,3,8]\n",
    "# any kind of durations, e.g. seconds, milliseconds, quarterLengths, tatums.\n",
    "d_list = [2.1,2,2,4,1,1,2,2,2,16]\n",
    "\n",
    "single_piece_predict(p_list, d_list, model, device)\n",
    "\n",
    "# -4 is a key signature for Ab maj, or F min "
   ]
  },
  {
   "cell_type": "markdown",
   "metadata": {},
   "source": [
    "## Process an entire musical score\n",
    "Example: you have already built a musical score (e.g. musicxml), as a result of music generation or music transcription, but the key signature and tonal pitch class are still random and you need to set them to have a more readable score."
   ]
  },
  {
   "cell_type": "code",
   "execution_count": 3,
   "metadata": {},
   "outputs": [
    {
     "name": "stdout",
     "output_type": "stream",
     "text": [
      "Parsing the musical score\n",
      "Running PKSpell\n",
      "Score saved in  ../tests/test_scores/pkspelled_score2.xml\n"
     ]
    }
   ],
   "source": [
    "model = torch.load(Path(\"../models/pkspell.pt\"))\n",
    "\n",
    "## if the load cause problems, loading the state_dict should work\n",
    "# model = PKSpell()\n",
    "# model.load_state_dict(torch.load(Path(\"../models/pkspell_statedict.pt\")))\n",
    "\n",
    "process_score(\"../tests/test_scores/bach_bwv867P_wrong.xml\", \"../tests/test_scores/pkspelled_score.xml\", model, device)"
   ]
  },
  {
   "cell_type": "code",
   "execution_count": null,
   "metadata": {},
   "outputs": [],
   "source": []
  }
 ],
 "metadata": {
  "interpreter": {
   "hash": "37c80ecac1b1d3ecd73a1d32c6a6643a1d20405a7a3555fcf6e35352c72821c1"
  },
  "kernelspec": {
   "display_name": "Python 3 (ipykernel)",
   "language": "python",
   "name": "python3"
  },
  "language_info": {
   "codemirror_mode": {
    "name": "ipython",
    "version": 3
   },
   "file_extension": ".py",
   "mimetype": "text/x-python",
   "name": "python",
   "nbconvert_exporter": "python",
   "pygments_lexer": "ipython3",
   "version": "3.9.7"
  }
 },
 "nbformat": 4,
 "nbformat_minor": 4
}
